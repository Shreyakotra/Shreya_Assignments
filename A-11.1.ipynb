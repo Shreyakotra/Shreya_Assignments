{
 "cells": [
  {
   "cell_type": "markdown",
   "id": "046b57b7",
   "metadata": {},
   "source": [
    "### Assignment 11.1\n",
    "#### create a performance decorator to measure time taken by a function to complete\n",
    "\n",
    "@performance_log\n",
    "def find_primes(min,max):\n",
    "    pass #prime logic here\n",
    "we can call it this way\n",
    "x = find_primes(2,50000)\n",
    "print(len(x))\n",
    "\n",
    "print(x.time_taken) # returns total time taken\n"
   ]
  },
  {
   "cell_type": "code",
   "execution_count": 41,
   "id": "ab7d2b17",
   "metadata": {},
   "outputs": [],
   "source": [
    "import time\n",
    "\n",
    "def performance_log(fn):\n",
    "    \n",
    "    def inner(* args, **kwargs):\n",
    "        start = time.time()\n",
    "        res = fn(* args, **kwargs)\n",
    "        end = time.time()\n",
    "        time_taken = start - end\n",
    "        return res\n",
    "        \n",
    "    return inner\n",
    "    "
   ]
  },
  {
   "cell_type": "code",
   "execution_count": 42,
   "id": "c55b9ae1",
   "metadata": {},
   "outputs": [],
   "source": [
    "# prime logic\n",
    "\n",
    "def is_prime(n):\n",
    "    if n<2:\n",
    "        return False\n",
    "    for x in range(2,n):\n",
    "        if n%x==0:\n",
    "            return False\n",
    "    return True\n",
    "\n",
    "@performance_log\n",
    "def find_primes(min,max):\n",
    "    primes=[]\n",
    "    for x in range(min,max):\n",
    "        if is_prime(x):\n",
    "            primes.append(x)\n",
    "    return primes"
   ]
  },
  {
   "cell_type": "code",
   "execution_count": 43,
   "id": "e95cb4f5",
   "metadata": {},
   "outputs": [],
   "source": [
    "x = find_primes(2, 5000)"
   ]
  },
  {
   "cell_type": "code",
   "execution_count": 44,
   "id": "f10fd13d",
   "metadata": {},
   "outputs": [
    {
     "name": "stdout",
     "output_type": "stream",
     "text": [
      "669\n"
     ]
    }
   ],
   "source": [
    "print(len(x))"
   ]
  },
  {
   "cell_type": "code",
   "execution_count": 45,
   "id": "2f113e9d",
   "metadata": {},
   "outputs": [
    {
     "ename": "AttributeError",
     "evalue": "'list' object has no attribute 'time_taken'",
     "output_type": "error",
     "traceback": [
      "\u001b[1;31m---------------------------------------------------------------------------\u001b[0m",
      "\u001b[1;31mAttributeError\u001b[0m                            Traceback (most recent call last)",
      "Cell \u001b[1;32mIn[45], line 1\u001b[0m\n\u001b[1;32m----> 1\u001b[0m \u001b[38;5;28mprint\u001b[39m(x\u001b[38;5;241m.\u001b[39mtime_taken)\n",
      "\u001b[1;31mAttributeError\u001b[0m: 'list' object has no attribute 'time_taken'"
     ]
    }
   ],
   "source": [
    "print(x.time_taken) # returns total time taken"
   ]
  },
  {
   "cell_type": "code",
   "execution_count": null,
   "id": "a85b1334",
   "metadata": {},
   "outputs": [],
   "source": []
  }
 ],
 "metadata": {
  "kernelspec": {
   "display_name": "Python 3 (ipykernel)",
   "language": "python",
   "name": "python3"
  },
  "language_info": {
   "codemirror_mode": {
    "name": "ipython",
    "version": 3
   },
   "file_extension": ".py",
   "mimetype": "text/x-python",
   "name": "python",
   "nbconvert_exporter": "python",
   "pygments_lexer": "ipython3",
   "version": "3.11.4"
  }
 },
 "nbformat": 4,
 "nbformat_minor": 5
}
