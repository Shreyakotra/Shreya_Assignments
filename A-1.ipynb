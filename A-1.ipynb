{
 "cells": [
  {
   "cell_type": "code",
   "execution_count": 1,
   "metadata": {},
   "outputs": [
    {
     "name": "stdout",
     "output_type": "stream",
     "text": [
      "The greatest number is 5\n"
     ]
    }
   ],
   "source": [
    "#program to take \"n\" numbers from user and find the largest\n",
    "n = int(input())\n",
    "a=int(input(\"Enter a number\"))\n",
    "\n",
    "for i in range(n-1):\n",
    "    b= int(input(\"Enter a number\"))\n",
    "    if b>a:\n",
    "        a=b  \n",
    "print(\"The greatest number is\", a)"
   ]
  },
  {
   "cell_type": "code",
   "execution_count": 8,
   "metadata": {},
   "outputs": [
    {
     "name": "stdout",
     "output_type": "stream",
     "text": [
      "second greatest number is 1\n"
     ]
    }
   ],
   "source": [
    "#program to take \"n\" numbers from user and the find the second laragest\n",
    "w = int(input())\n",
    "p=int(input(\"Enter a number\"))\n",
    "for i in range(n-1):\n",
    "    q= int(input(\"Enter a number\"))\n",
    "    if q>p:\n",
    "        c=p\n",
    "        p=q  \n",
    "    elif q<p and q<c:\n",
    "        c=q\n",
    "print(\"second greatest number is\", c)"
   ]
  },
  {
   "cell_type": "code",
   "execution_count": 4,
   "metadata": {},
   "outputs": [
    {
     "name": "stdout",
     "output_type": "stream",
     "text": [
      "2\n",
      "3\n",
      "5\n",
      "7\n"
     ]
    }
   ],
   "source": [
    "#program to find all primes in a given range min-max        \n",
    "a = int(input())\n",
    "b = int(input())\n",
    "for i in range(a, b+1):\n",
    "    if i>1:\n",
    "        for j in range(2, i):\n",
    "            if (i%j) == 0:\n",
    "                break\n",
    "        else:\n",
    "            print(i)\n"
   ]
  },
  {
   "cell_type": "code",
   "execution_count": 1,
   "metadata": {},
   "outputs": [
    {
     "name": "stdout",
     "output_type": "stream",
     "text": [
      "2\n",
      "3\n",
      "5\n",
      "7\n"
     ]
    }
   ],
   "source": [
    "def prime(num):\n",
    "    c=0\n",
    "    for i in range(1,num):\n",
    "        if num%i==0:\n",
    "            c=c+1\n",
    "    if c==1:\n",
    "        return 1\n",
    "    else:\n",
    "        return 0\n",
    "min,max=map(int,input().split())\n",
    "for i in range(min,max):\n",
    "    if (prime(i)==1):\n",
    "        print(i)\n"
   ]
  }
 ],
 "metadata": {
  "kernelspec": {
   "display_name": "Python 3",
   "language": "python",
   "name": "python3"
  },
  "language_info": {
   "codemirror_mode": {
    "name": "ipython",
    "version": 3
   },
   "file_extension": ".py",
   "mimetype": "text/x-python",
   "name": "python",
   "nbconvert_exporter": "python",
   "pygments_lexer": "ipython3",
   "version": "3.11.5"
  },
  "orig_nbformat": 4
 },
 "nbformat": 4,
 "nbformat_minor": 2
}
