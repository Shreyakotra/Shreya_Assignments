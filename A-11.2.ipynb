{
 "cells": [
  {
   "cell_type": "code",
   "execution_count": 2,
   "metadata": {},
   "outputs": [
    {
     "name": "stdout",
     "output_type": "stream",
     "text": [
      "total primes:  2262\n",
      "total time taken 0.6149444580078125\n"
     ]
    }
   ],
   "source": [
    "import time\n",
    "\n",
    "class Timer:\n",
    "    def __init__(self):\n",
    "        self.time_taken = None\n",
    "        self.start = None\n",
    "\n",
    "    def __enter__(self):\n",
    "        self.start = time.time()\n",
    "    \n",
    "    def __exit__(self, t, e, s):\n",
    "        end = time.time()\n",
    "        self.time_taken = end - self.start\n",
    "\n",
    "def performance_log(fn_target):\n",
    "    def inner(*args, **kwargs):\n",
    "        start_time = time.time()\n",
    "        result = [x for x in fn_target(*args, **kwargs)]  \n",
    "        end_time = time.time()\n",
    "        time_taken = end_time-start_time\n",
    "        return result\n",
    "    return inner\n",
    "\n",
    "\n",
    "def is_prime(val):\n",
    "    if val<2: return False\n",
    "    for i in range(2, val):\n",
    "        if val%i == 0: return False\n",
    "    return val\n",
    "\n",
    "@performance_log\n",
    "def find_primes(min, max=None):\n",
    "    if not max: \n",
    "        max = min\n",
    "        min = 1\n",
    "    for val in range(min, max+1):\n",
    "        if is_prime(val):\n",
    "            yield val\n",
    "\n",
    "t = Timer()\n",
    "with t:\n",
    "    p = find_primes(2, 20000)\n",
    "    print('total primes: ', len(p))\n",
    "print('total time taken', t.time_taken)"
   ]
  }
 ],
 "metadata": {
  "kernelspec": {
   "display_name": "Python 3",
   "language": "python",
   "name": "python3"
  },
  "language_info": {
   "codemirror_mode": {
    "name": "ipython",
    "version": 3
   },
   "file_extension": ".py",
   "mimetype": "text/x-python",
   "name": "python",
   "nbconvert_exporter": "python",
   "pygments_lexer": "ipython3",
   "version": "3.11.6"
  },
  "orig_nbformat": 4
 },
 "nbformat": 4,
 "nbformat_minor": 2
}
