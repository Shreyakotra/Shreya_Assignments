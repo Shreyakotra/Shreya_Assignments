{
 "cells": [
  {
   "cell_type": "code",
   "execution_count": 1,
   "metadata": {},
   "outputs": [],
   "source": [
    "from math import pi\n",
    "\n",
    "class Circle:\n",
    "    pass\n",
    "\n",
    "def create(radius):\n",
    "    t=Circle()\n",
    "    t.radius=radius\n",
    "    return t\n",
    "\n",
    "def perimeter(t):\n",
    "    return 2*pi*(t.radius)\n",
    "\n",
    "def area(t):\n",
    "    return pi*t.radius*t.radius\n",
    "    \n",
    "\n",
    "def info(t):\n",
    "    return f'Circle Radius={t.radius}'\n",
    "\n",
    "def draw(t):\n",
    "    print(info(t))\n",
    "    "
   ]
  },
  {
   "cell_type": "code",
   "execution_count": 2,
   "metadata": {},
   "outputs": [],
   "source": [
    "def test_Circle(radius):\n",
    "    t=create(radius)\n",
    "    draw(t)\n",
    "    print(f'Area={area(t)}')\n",
    "    print(f'Perimeter={perimeter(t)}')"
   ]
  },
  {
   "cell_type": "code",
   "execution_count": 3,
   "metadata": {},
   "outputs": [
    {
     "name": "stdout",
     "output_type": "stream",
     "text": [
      "Circle Radius=3\n",
      "Area=28.274333882308138\n",
      "Perimeter=18.84955592153876\n"
     ]
    }
   ],
   "source": [
    "test_Circle(3)"
   ]
  },
  {
   "cell_type": "code",
   "execution_count": 4,
   "metadata": {},
   "outputs": [],
   "source": [
    "class Bank_Account:\n",
    "\n",
    "    def __init__(self,acc_no,name,password,bal,rate):\n",
    "        self.acc_no=acc_no\n",
    "        self.name=name\n",
    "        self.password=password\n",
    "        self.bal=bal\n",
    "        self.rate=rate\n",
    "\n",
    "    def deposit(self,amount):\n",
    "        if(amount>0):\n",
    "            self.bal=self.bal+amount\n",
    "            return f'Updated Balance {self.bal}'\n",
    "        return \"Invalid Amount\"\n",
    "\n",
    "    def withdraw(self,password,amount):\n",
    "        if(password==self.password):\n",
    "            if(self.bal<amount):\n",
    "                return \"Insufficient Amount\"\n",
    "            elif( self.bal<0 ):\n",
    "                return \"Amount to be withdrawn should be positive\"\n",
    "            else:\n",
    "                self.bal=self.bal-amount\n",
    "                return f'Remaining Balance {self.bal}'\n",
    "        else:\n",
    "            return \"Wrong password\"\n",
    "        \n",
    "\n",
    "    def credit_interest(self):\n",
    "        self.bal+=self.bal * self.rate /1200\n",
    "        return f\"credit_interest is {self.bal}\"  \n",
    "\n",
    "    def info(self): \n",
    "        return f'Balance<{self.bal}>'\n",
    "\n",
    "\n"
   ]
  },
  {
   "cell_type": "code",
   "execution_count": 5,
   "metadata": {},
   "outputs": [
    {
     "data": {
      "text/plain": [
       "'Balance<300000>'"
      ]
     },
     "execution_count": 5,
     "metadata": {},
     "output_type": "execute_result"
    }
   ],
   "source": [
    "ob=Bank_Account(101,'shreya',1610,300000,5)\n",
    "ob.info()"
   ]
  },
  {
   "cell_type": "code",
   "execution_count": 6,
   "metadata": {},
   "outputs": [
    {
     "data": {
      "text/plain": [
       "'Updated Balance 310000'"
      ]
     },
     "execution_count": 6,
     "metadata": {},
     "output_type": "execute_result"
    }
   ],
   "source": [
    "ob.deposit(10000)"
   ]
  },
  {
   "cell_type": "code",
   "execution_count": 7,
   "metadata": {},
   "outputs": [
    {
     "data": {
      "text/plain": [
       "'Remaining Balance 300000'"
      ]
     },
     "execution_count": 7,
     "metadata": {},
     "output_type": "execute_result"
    }
   ],
   "source": [
    "ob.withdraw(1610,10000)"
   ]
  },
  {
   "cell_type": "code",
   "execution_count": 8,
   "metadata": {},
   "outputs": [
    {
     "data": {
      "text/plain": [
       "'credit_interest is 301250.0'"
      ]
     },
     "execution_count": 8,
     "metadata": {},
     "output_type": "execute_result"
    }
   ],
   "source": [
    "ob.credit_interest()"
   ]
  }
 ],
 "metadata": {
  "kernelspec": {
   "display_name": "Python 3",
   "language": "python",
   "name": "python3"
  },
  "language_info": {
   "codemirror_mode": {
    "name": "ipython",
    "version": 3
   },
   "file_extension": ".py",
   "mimetype": "text/x-python",
   "name": "python",
   "nbconvert_exporter": "python",
   "pygments_lexer": "ipython3",
   "version": "3.11.5"
  },
  "orig_nbformat": 4
 },
 "nbformat": 4,
 "nbformat_minor": 2
}
