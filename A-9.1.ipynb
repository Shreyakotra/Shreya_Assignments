{
 "cells": [
  {
   "cell_type": "code",
   "execution_count": 1,
   "metadata": {},
   "outputs": [],
   "source": [
    "class Book:\n",
    "    def __init__(self,id,title,author,price,rating):\n",
    "        self.id=id\n",
    "        self.title=title\n",
    "        self.author=author\n",
    "        self.price=price \n",
    "        self.rating=rating\n",
    "class library:\n",
    "    def __init__(self):\n",
    "        self.books=[]\n",
    "    def add_book(self,book):\n",
    "        self.books.append(book)\n",
    "    def Find_by_ID(self,ID):\n",
    "        for book in self.books:\n",
    "            if book.id==ID:\n",
    "                print(f\"{book.id},{book.title},{book.author},{book.price},{book.rating}\")\n",
    "        return None\n",
    "    def Find_by_author(self,author_name):\n",
    "        for book in self.books:\n",
    "            if book.author==author_name:\n",
    "                print(f\"{book.id},{book.title},{book.author},{book.price},{book.rating}\")\n",
    "        return None\n",
    "    def Find_by_rating(self,start,end):\n",
    "        for book in self.books:\n",
    "            if (book.rating>start and book.rating<end):\n",
    "                print(f\"{book.id},{book.title},{book.author},{book.price},{book.rating}\")\n",
    "        return None\n",
    "    def Find_by_price(self,start,end):\n",
    "        for book in self.books:\n",
    "            if (book.price>start and book.price<end):\n",
    "                print(f\"{book.id},{book.title},{book.author},{book.price},{book.rating}\")\n",
    "        return None\n",
    "    def info(self):\n",
    "        for i in self.books:\n",
    "            print(f\"{i.id},{i.title},{i.author},{i.price},{i.rating}\")\n",
    "        "
   ]
  },
  {
   "cell_type": "code",
   "execution_count": 2,
   "metadata": {},
   "outputs": [
    {
     "name": "stdout",
     "output_type": "stream",
     "text": [
      "Books list:\n",
      "101,python,vivek,200,4\n",
      "102,python2.0,shreya,100,5\n",
      "103,java,xyz,250,3\n",
      "104,data structures,abc,400,2\n",
      "finding book by id=102:\n",
      "102,python2.0,shreya,100,5\n",
      "finding book by author=shreya:\n",
      "102,python2.0,shreya,100,5\n",
      "finding books by rating between 3 and 5\n",
      "101,python,vivek,200,4\n",
      "finding book by price between 150 and 300\n",
      "101,python,vivek,200,4\n",
      "103,java,xyz,250,3\n"
     ]
    }
   ],
   "source": [
    "b1=Book(101,\"python\",\"vivek\",200,4)\n",
    "b2=Book(102,\"python2.0\",\"shreya\",100,5)\n",
    "b3=Book(103,\"java\",\"xyz\",250,3)\n",
    "b4=Book(104,\"data structures\",\"abc\",400,2)\n",
    "l=library()\n",
    "l.add_book(b1)\n",
    "l.add_book(b2)\n",
    "l.add_book(b3)\n",
    "l.add_book(b4)\n",
    "print(\"Books list:\")\n",
    "l.info()\n",
    "print(\"finding book by id=102:\")\n",
    "l.Find_by_ID(102)\n",
    "print(\"finding book by author=shreya:\")\n",
    "l.Find_by_author(\"shreya\")\n",
    "print(\"finding books by rating between 3 and 5\")\n",
    "l.Find_by_rating(3,5)\n",
    "print(\"finding book by price between 150 and 300\")\n",
    "l.Find_by_price(150,300)\n"
   ]
  }
 ],
 "metadata": {
  "kernelspec": {
   "display_name": "Python 3",
   "language": "python",
   "name": "python3"
  },
  "language_info": {
   "codemirror_mode": {
    "name": "ipython",
    "version": 3
   },
   "file_extension": ".py",
   "mimetype": "text/x-python",
   "name": "python",
   "nbconvert_exporter": "python",
   "pygments_lexer": "ipython3",
   "version": "3.11.5"
  },
  "orig_nbformat": 4
 },
 "nbformat": 4,
 "nbformat_minor": 2
}
