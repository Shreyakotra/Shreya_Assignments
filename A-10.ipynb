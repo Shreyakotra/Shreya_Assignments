{
 "cells": [
  {
   "cell_type": "code",
   "execution_count": 1,
   "metadata": {},
   "outputs": [
    {
     "name": "stdout",
     "output_type": "stream",
     "text": [
      "------use case 1-------\n",
      "2\n",
      "3\n",
      "5\n",
      "7\n",
      "------use case 2--------\n",
      "11\n",
      "13\n",
      "17\n",
      "19\n",
      "Iteration Stopped\n"
     ]
    }
   ],
   "source": [
    "class prime_range:\n",
    "\n",
    "    def __init__(self, end,start=0):\n",
    "        if start==0:\n",
    "            self.current = start\n",
    "            self.end = end\n",
    "        elif start>end:\n",
    "            self.current=end\n",
    "            self.end=start\n",
    "    def __iter__(self):\n",
    "        return self\n",
    "    def is_prime(self,n):\n",
    "        if n<=1:\n",
    "            return False\n",
    "        test=2\n",
    "        while test<n:\n",
    "            if n%test==0:\n",
    "                return False\n",
    "            test+=1\n",
    "        return True\n",
    "\n",
    "    def __next__(self):\n",
    "        while self.current< self.end:\n",
    "            num=self.current\n",
    "            self.current+=1\n",
    "            if self.is_prime(num):\n",
    "                return num\n",
    "        raise StopIteration\n",
    "\n",
    "\n",
    "print(\"------use case 1-------\")\n",
    "for num in prime_range(10):\n",
    "        print(num)\n",
    "print(\"------use case 2--------\")\n",
    "try:\n",
    "    primes= prime_range(10,20)\n",
    "    it=iter(primes)\n",
    "    print(next(it)) #11\n",
    "    print(next(it)) #13\n",
    "    print(next(it)) #17\n",
    "    print(next(it)) #19\n",
    "    print(next(it))\n",
    "except StopIteration:\n",
    "    print(\"Iteration Stopped\")\n"
   ]
  }
 ],
 "metadata": {
  "kernelspec": {
   "display_name": "Python 3",
   "language": "python",
   "name": "python3"
  },
  "language_info": {
   "codemirror_mode": {
    "name": "ipython",
    "version": 3
   },
   "file_extension": ".py",
   "mimetype": "text/x-python",
   "name": "python",
   "nbconvert_exporter": "python",
   "pygments_lexer": "ipython3",
   "version": "3.11.6"
  },
  "orig_nbformat": 4
 },
 "nbformat": 4,
 "nbformat_minor": 2
}
